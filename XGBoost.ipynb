{
  "nbformat": 4,
  "nbformat_minor": 0,
  "metadata": {
    "kernelspec": {
      "display_name": "Python 3",
      "language": "python",
      "name": "python3"
    },
    "language_info": {
      "codemirror_mode": {
        "name": "ipython",
        "version": 3
      },
      "file_extension": ".py",
      "mimetype": "text/x-python",
      "name": "python",
      "nbconvert_exporter": "python",
      "pygments_lexer": "ipython3",
      "version": "3.8.5"
    },
    "colab": {
      "name": "XGBoost.ipynb",
      "provenance": [],
      "collapsed_sections": [],
      "include_colab_link": true
    }
  },
  "cells": [
    {
      "cell_type": "markdown",
      "metadata": {
        "id": "view-in-github",
        "colab_type": "text"
      },
      "source": [
        "<a href=\"https://colab.research.google.com/github/BhaskarJB/BhaskarJB/blob/main/XGBoost.ipynb\" target=\"_parent\"><img src=\"https://colab.research.google.com/assets/colab-badge.svg\" alt=\"Open In Colab\"/></a>"
      ]
    },
    {
      "cell_type": "code",
      "metadata": {
        "id": "mRdtd4n1iPfE"
      },
      "source": [
        "import matplotlib.pyplot as plt\n",
        "import seaborn as sns\n",
        "import sklearn.datasets\n",
        "from sklearn.model_selection import train_test_split\n",
        "from xgboost import XGBRegressor\n",
        "import pandas as pd\n",
        "from sklearn import metrics\n",
        "from sklearn.metrics import accuracy_score\n",
        "import numpy as np"
      ],
      "execution_count": null,
      "outputs": []
    },
    {
      "cell_type": "code",
      "metadata": {
        "id": "YgTNqlBqpT24"
      },
      "source": [
        "df=pd.read_csv(\"Dataset.csv\")\n",
        "df1=pd.read_csv(\"Dataset.csv\")"
      ],
      "execution_count": null,
      "outputs": []
    },
    {
      "cell_type": "code",
      "metadata": {
        "colab": {
          "base_uri": "https://localhost:8080/",
          "height": 240
        },
        "id": "fuEjc6cv2OXG",
        "outputId": "0ae014a0-c8e9-4678-d832-a686aaeab959"
      },
      "source": [
        "df.head()"
      ],
      "execution_count": null,
      "outputs": [
        {
          "output_type": "execute_result",
          "data": {
            "text/html": [
              "<div>\n",
              "<style scoped>\n",
              "    .dataframe tbody tr th:only-of-type {\n",
              "        vertical-align: middle;\n",
              "    }\n",
              "\n",
              "    .dataframe tbody tr th {\n",
              "        vertical-align: top;\n",
              "    }\n",
              "\n",
              "    .dataframe thead th {\n",
              "        text-align: right;\n",
              "    }\n",
              "</style>\n",
              "<table border=\"1\" class=\"dataframe\">\n",
              "  <thead>\n",
              "    <tr style=\"text-align: right;\">\n",
              "      <th></th>\n",
              "      <th>Unnamed: 0</th>\n",
              "      <th>State</th>\n",
              "      <th>District</th>\n",
              "      <th>Population</th>\n",
              "      <th>Children_Between_1_to_2_years</th>\n",
              "      <th>Total_Arthritis_Patient</th>\n",
              "      <th>Arthritis_Patient_Male</th>\n",
              "      <th>Arthritis_Patient_Female</th>\n",
              "      <th>Children_Vaccinated</th>\n",
              "      <th>Children_Immunized</th>\n",
              "      <th>Children_Vaccinated_at_Birth</th>\n",
              "      <th>Children_Not_Vaccinated</th>\n",
              "      <th>Total_Children_Weighted</th>\n",
              "      <th>Children_Weighted_less_than_2.5_Kg</th>\n",
              "      <th>Women_Aged_15_49_years</th>\n",
              "    </tr>\n",
              "  </thead>\n",
              "  <tbody>\n",
              "    <tr>\n",
              "      <th>0</th>\n",
              "      <td>0</td>\n",
              "      <td>Assam</td>\n",
              "      <td>Barpeta</td>\n",
              "      <td>64606</td>\n",
              "      <td>2371</td>\n",
              "      <td>1072.0</td>\n",
              "      <td>832.0</td>\n",
              "      <td>1328.0</td>\n",
              "      <td>76.5</td>\n",
              "      <td>62.1</td>\n",
              "      <td>67.7</td>\n",
              "      <td>4.3</td>\n",
              "      <td>55.3</td>\n",
              "      <td>22.5</td>\n",
              "      <td>12208.5</td>\n",
              "    </tr>\n",
              "    <tr>\n",
              "      <th>1</th>\n",
              "      <td>1</td>\n",
              "      <td>Assam</td>\n",
              "      <td>Bongaigaon</td>\n",
              "      <td>84012</td>\n",
              "      <td>2451</td>\n",
              "      <td>929.0</td>\n",
              "      <td>701.0</td>\n",
              "      <td>1171.0</td>\n",
              "      <td>67.8</td>\n",
              "      <td>52.4</td>\n",
              "      <td>73.7</td>\n",
              "      <td>3.4</td>\n",
              "      <td>55.7</td>\n",
              "      <td>21.6</td>\n",
              "      <td>16157.0</td>\n",
              "    </tr>\n",
              "    <tr>\n",
              "      <th>2</th>\n",
              "      <td>2</td>\n",
              "      <td>Assam</td>\n",
              "      <td>Cachar</td>\n",
              "      <td>127158</td>\n",
              "      <td>5709</td>\n",
              "      <td>2964.0</td>\n",
              "      <td>2448.0</td>\n",
              "      <td>3474.0</td>\n",
              "      <td>71.3</td>\n",
              "      <td>64.5</td>\n",
              "      <td>82.0</td>\n",
              "      <td>2.7</td>\n",
              "      <td>61.7</td>\n",
              "      <td>27.8</td>\n",
              "      <td>22614.5</td>\n",
              "    </tr>\n",
              "    <tr>\n",
              "      <th>3</th>\n",
              "      <td>3</td>\n",
              "      <td>Assam</td>\n",
              "      <td>Darrang</td>\n",
              "      <td>29048</td>\n",
              "      <td>984</td>\n",
              "      <td>1557.0</td>\n",
              "      <td>1360.0</td>\n",
              "      <td>1766.0</td>\n",
              "      <td>79.3</td>\n",
              "      <td>56.4</td>\n",
              "      <td>76.3</td>\n",
              "      <td>5.3</td>\n",
              "      <td>65.0</td>\n",
              "      <td>25.2</td>\n",
              "      <td>5225.5</td>\n",
              "    </tr>\n",
              "    <tr>\n",
              "      <th>4</th>\n",
              "      <td>4</td>\n",
              "      <td>Assam</td>\n",
              "      <td>Dhemaji</td>\n",
              "      <td>75451</td>\n",
              "      <td>3467</td>\n",
              "      <td>1109.0</td>\n",
              "      <td>958.0</td>\n",
              "      <td>1265.0</td>\n",
              "      <td>80.4</td>\n",
              "      <td>66.6</td>\n",
              "      <td>78.5</td>\n",
              "      <td>7.5</td>\n",
              "      <td>74.1</td>\n",
              "      <td>14.5</td>\n",
              "      <td>13844.0</td>\n",
              "    </tr>\n",
              "  </tbody>\n",
              "</table>\n",
              "</div>"
            ],
            "text/plain": [
              "   Unnamed: 0  ... Women_Aged_15_49_years\n",
              "0           0  ...                12208.5\n",
              "1           1  ...                16157.0\n",
              "2           2  ...                22614.5\n",
              "3           3  ...                 5225.5\n",
              "4           4  ...                13844.0\n",
              "\n",
              "[5 rows x 15 columns]"
            ]
          },
          "metadata": {
            "tags": []
          },
          "execution_count": 3
        }
      ]
    },
    {
      "cell_type": "code",
      "metadata": {
        "id": "nGw__gUcTLKi"
      },
      "source": [
        "#sorting districts in accordance to total arthritis patient\n",
        "df1.sort_values([\"Total_Arthritis_Patient\"], \n",
        "                    axis=0,\n",
        "                    ascending=[False], \n",
        "                    inplace=True)"
      ],
      "execution_count": null,
      "outputs": []
    },
    {
      "cell_type": "code",
      "metadata": {
        "id": "P9ko9y7Sh3ra"
      },
      "source": [
        "#taking top 20 dist. with arthritis patient\n",
        "popArt = df1.iloc[:19, :]"
      ],
      "execution_count": null,
      "outputs": []
    },
    {
      "cell_type": "code",
      "metadata": {
        "id": "yAHkuCKUpkWz"
      },
      "source": [
        ""
      ],
      "execution_count": null,
      "outputs": []
    },
    {
      "cell_type": "code",
      "metadata": {
        "colab": {
          "base_uri": "https://localhost:8080/",
          "height": 257
        },
        "id": "ECryF_j1q6Sc",
        "outputId": "c811f96b-5699-403e-d7ea-aafe472dec8d"
      },
      "source": [
        "popArt.head()"
      ],
      "execution_count": null,
      "outputs": [
        {
          "output_type": "execute_result",
          "data": {
            "text/html": [
              "<div>\n",
              "<style scoped>\n",
              "    .dataframe tbody tr th:only-of-type {\n",
              "        vertical-align: middle;\n",
              "    }\n",
              "\n",
              "    .dataframe tbody tr th {\n",
              "        vertical-align: top;\n",
              "    }\n",
              "\n",
              "    .dataframe thead th {\n",
              "        text-align: right;\n",
              "    }\n",
              "</style>\n",
              "<table border=\"1\" class=\"dataframe\">\n",
              "  <thead>\n",
              "    <tr style=\"text-align: right;\">\n",
              "      <th></th>\n",
              "      <th>Unnamed: 0</th>\n",
              "      <th>State</th>\n",
              "      <th>District</th>\n",
              "      <th>Population</th>\n",
              "      <th>Children_Between_1_to_2_years</th>\n",
              "      <th>Total_Arthritis_Patient</th>\n",
              "      <th>Arthritis_Patient_Male</th>\n",
              "      <th>Arthritis_Patient_Female</th>\n",
              "      <th>Children_Vaccinated</th>\n",
              "      <th>Children_Immunized</th>\n",
              "      <th>Children_Vaccinated_at_Birth</th>\n",
              "      <th>Children_Not_Vaccinated</th>\n",
              "      <th>Total_Children_Weighted</th>\n",
              "      <th>Children_Weighted_less_than_2.5_Kg</th>\n",
              "      <th>Women_Aged_15_49_years</th>\n",
              "    </tr>\n",
              "  </thead>\n",
              "  <tbody>\n",
              "    <tr>\n",
              "      <th>10</th>\n",
              "      <td>10</td>\n",
              "      <td>Assam</td>\n",
              "      <td>Jorhat</td>\n",
              "      <td>172958</td>\n",
              "      <td>5966</td>\n",
              "      <td>7910.00</td>\n",
              "      <td>7203.00</td>\n",
              "      <td>8633.00</td>\n",
              "      <td>81.00</td>\n",
              "      <td>70.90</td>\n",
              "      <td>84.90</td>\n",
              "      <td>1.30</td>\n",
              "      <td>81.00</td>\n",
              "      <td>22.50</td>\n",
              "      <td>33790.5</td>\n",
              "    </tr>\n",
              "    <tr>\n",
              "      <th>8</th>\n",
              "      <td>8</td>\n",
              "      <td>Assam</td>\n",
              "      <td>Golaghat</td>\n",
              "      <td>72165</td>\n",
              "      <td>2387</td>\n",
              "      <td>7202.00</td>\n",
              "      <td>6482.00</td>\n",
              "      <td>7945.00</td>\n",
              "      <td>76.90</td>\n",
              "      <td>69.40</td>\n",
              "      <td>80.50</td>\n",
              "      <td>1.40</td>\n",
              "      <td>75.50</td>\n",
              "      <td>24.70</td>\n",
              "      <td>13803.5</td>\n",
              "    </tr>\n",
              "    <tr>\n",
              "      <th>279</th>\n",
              "      <td>279</td>\n",
              "      <td>Uttarakhand</td>\n",
              "      <td>Pithoragarh</td>\n",
              "      <td>102999</td>\n",
              "      <td>3358</td>\n",
              "      <td>5884.42</td>\n",
              "      <td>3469.81</td>\n",
              "      <td>8116.12</td>\n",
              "      <td>94.88</td>\n",
              "      <td>88.74</td>\n",
              "      <td>70.43</td>\n",
              "      <td>1.28</td>\n",
              "      <td>55.39</td>\n",
              "      <td>30.58</td>\n",
              "      <td>20711.5</td>\n",
              "    </tr>\n",
              "    <tr>\n",
              "      <th>239</th>\n",
              "      <td>239</td>\n",
              "      <td>Uttar Pradesh</td>\n",
              "      <td>Kannauj</td>\n",
              "      <td>156432</td>\n",
              "      <td>7154</td>\n",
              "      <td>5631.64</td>\n",
              "      <td>4161.75</td>\n",
              "      <td>7212.32</td>\n",
              "      <td>59.10</td>\n",
              "      <td>46.44</td>\n",
              "      <td>64.07</td>\n",
              "      <td>2.95</td>\n",
              "      <td>40.99</td>\n",
              "      <td>21.89</td>\n",
              "      <td>25418.0</td>\n",
              "    </tr>\n",
              "    <tr>\n",
              "      <th>20</th>\n",
              "      <td>20</td>\n",
              "      <td>Assam</td>\n",
              "      <td>Sibsagar</td>\n",
              "      <td>57972</td>\n",
              "      <td>1954</td>\n",
              "      <td>5621.00</td>\n",
              "      <td>4907.00</td>\n",
              "      <td>6369.00</td>\n",
              "      <td>88.40</td>\n",
              "      <td>83.50</td>\n",
              "      <td>92.40</td>\n",
              "      <td>0.80</td>\n",
              "      <td>86.30</td>\n",
              "      <td>23.50</td>\n",
              "      <td>10944.5</td>\n",
              "    </tr>\n",
              "  </tbody>\n",
              "</table>\n",
              "</div>"
            ],
            "text/plain": [
              "     Unnamed: 0  ... Women_Aged_15_49_years\n",
              "10           10  ...                33790.5\n",
              "8             8  ...                13803.5\n",
              "279         279  ...                20711.5\n",
              "239         239  ...                25418.0\n",
              "20           20  ...                10944.5\n",
              "\n",
              "[5 rows x 15 columns]"
            ]
          },
          "metadata": {
            "tags": []
          },
          "execution_count": 6
        }
      ]
    },
    {
      "cell_type": "code",
      "metadata": {
        "colab": {
          "base_uri": "https://localhost:8080/",
          "height": 313
        },
        "id": "4Ck_s0jIVIbO",
        "outputId": "ee5db824-5c7f-4b29-cb5f-af9eac6248e0"
      },
      "source": [
        "import matplotlib.pyplot as plt\n",
        "\n",
        "TotalPop = popArt['Population'].sum()\n",
        "TotalArt = popArt['Total_Arthritis_Patient'].sum()\n",
        "sizes = [((TotalArt/(TotalPop+TotalArt))*100), ((TotalPop/(TotalPop+TotalArt))*100)]\n",
        "labels = ['Total Arthritis', 'Total Population']\n",
        "colors = ['red', 'green']\n",
        "\n",
        "patches, texts = plt.pie(sizes, colors=colors, shadow=True, startangle=90)\n",
        "plt.legend(patches, labels, loc=\"best\")\n",
        "plt.axis('equal')\n",
        "plt.tight_layout()\n",
        "plt.title('Total Population vs Total Arthritits pateint in top 20 dist.')\n",
        "plt.show()\n"
      ],
      "execution_count": null,
      "outputs": [
        {
          "output_type": "display_data",
          "data": {
            "image/png": "[encoded data removed]",
            "text/plain": [
              "<Figure size 432x288 with 1 Axes>"
            ]
          },
          "metadata": {
            "tags": []
          }
        }
      ]
    },
    {
      "cell_type": "code",
      "metadata": {
        "colab": {
          "base_uri": "https://localhost:8080/",
          "height": 473
        },
        "id": "ypO6-LX9ywXJ",
        "outputId": "f02d77af-9645-4437-d595-cfc7a3a2df78"
      },
      "source": [
        "popArt['Population*10'] = popArt['Population']/10\n",
        "\n",
        "popArt.plot(x=\"District\", y=[\"Population*10\", \"Total_Arthritis_Patient\",], kind='bar')\n",
        "plt.title('Population vs Arthritits pateint in top 20 dist.')\n"
      ],
      "execution_count": null,
      "outputs": [
        {
          "output_type": "stream",
          "text": [
            "/usr/local/lib/python3.7/dist-packages/ipykernel_launcher.py:1: SettingWithCopyWarning: \n",
            "A value is trying to be set on a copy of a slice from a DataFrame.\n",
            "Try using .loc[row_indexer,col_indexer] = value instead\n",
            "\n",
            "See the caveats in the documentation: https://pandas.pydata.org/pandas-docs/stable/user_guide/indexing.html#returning-a-view-versus-a-copy\n",
            "  \"\"\"Entry point for launching an IPython kernel.\n"
          ],
          "name": "stderr"
        },
        {
          "output_type": "execute_result",
          "data": {
            "text/plain": [
              "Text(0.5, 1.0, 'Population vs Arthritits pateint in top 20 dist.')"
            ]
          },
          "metadata": {
            "tags": []
          },
          "execution_count": 9
        },
        {
          "output_type": "display_data",
          "data": {
            "image/png": "[encoded data removed]",
            "text/plain": [
              "<Figure size 432x288 with 1 Axes>"
            ]
          },
          "metadata": {
            "tags": [],
            "needs_background": "light"
          }
        }
      ]
    },
    {
      "cell_type": "code",
      "metadata": {
        "colab": {
          "base_uri": "https://localhost:8080/",
          "height": 372
        },
        "id": "7YeiclFe0ak6",
        "outputId": "7b01bdfc-8d51-40e4-9b92-37a8c10de165"
      },
      "source": [
        "popArt.plot(x=\"District\", y=[\"Women_Aged_15_49_years\", \"Total_Arthritis_Patient\",], kind='bar')\n",
        "plt.title('Women aged 15-49 yrs vs Arthritits pateint in top 20 dist.')\n"
      ],
      "execution_count": null,
      "outputs": [
        {
          "output_type": "execute_result",
          "data": {
            "text/plain": [
              "Text(0.5, 1.0, 'Women aged 15-49 yrs vs Arthritits pateint in top 20 dist.')"
            ]
          },
          "metadata": {
            "tags": []
          },
          "execution_count": 10
        },
        {
          "output_type": "display_data",
          "data": {
            "image/png": "[encoded data removed]",
            "text/plain": [
              "<Figure size 432x288 with 1 Axes>"
            ]
          },
          "metadata": {
            "tags": [],
            "needs_background": "light"
          }
        }
      ]
    },
    {
      "cell_type": "code",
      "metadata": {
        "id": "77sOhLUQiPfJ"
      },
      "source": [
        "district=df['District'].unique()"
      ],
      "execution_count": null,
      "outputs": []
    },
    {
      "cell_type": "code",
      "metadata": {
        "colab": {
          "base_uri": "https://localhost:8080/"
        },
        "id": "68QONeqKiPfJ",
        "outputId": "1e268fd5-b1c2-479a-e526-1229ee04c0aa"
      },
      "source": [
        "import numpy as np\n",
        "np.array(district)"
      ],
      "execution_count": null,
      "outputs": [
        {
          "output_type": "execute_result",
          "data": {
            "text/plain": [
              "array(['Barpeta', 'Bongaigaon', 'Cachar', 'Darrang', 'Dhemaji', 'Dhubri',\n",
              "       'Dibrugarh', 'Goalpara', 'Golaghat', 'Hailakandi', 'Jorhat',\n",
              "       'Kamrup', 'Karbi Anglong', 'Karimganj', 'Kokrajhar', 'Lakhimpur',\n",
              "       'Marigaon', 'Nagaon', 'Nalbari', 'North Cachar Hills', 'Sibsagar',\n",
              "       'Sonitpur', 'Tinsukia', 'Araria', 'Aurangabad', 'Banka',\n",
              "       'Begusarai', 'Bhagalpur', 'Bhojpur', 'Buxar', 'Darbhanga', 'Gaya',\n",
              "       'Gopalganj', 'Jamui', 'Jehanabad', 'Kaimur (Bhabua)', 'Katihar',\n",
              "       'Khagaria', 'Kishanganj', 'Lakhisarai', 'Madhepura', 'Madhubani',\n",
              "       'Munger', 'Muzaffarpur', 'Nalanda', 'Nawada', 'Pashchim Champaran',\n",
              "       'Patna', 'Purba Champaran', 'Purnia', 'Rohtas', 'Saharsa',\n",
              "       'Samastipur', 'Saran', 'Sheikhpura', 'Sheohar', 'Sitamarhi',\n",
              "       'Siwan', 'Supaul', 'Vaishali', 'Bastar', 'Bilaspur', 'Dantewada',\n",
              "       'Dhamtari', 'Durg', 'Janjgir-Champa', 'Jashpur', 'Kanker',\n",
              "       'Kawardha', 'Korba', 'Koriya', 'Mahasamund', 'Raigarh', 'Raipur',\n",
              "       'Rajnandgaon', 'Surguja', 'Bokaro', 'Chatra', 'Deoghar', 'Dhanbad',\n",
              "       'Dumka', 'Garhwa', 'Giridih', 'Godda', 'Gumla', 'Hazaribagh',\n",
              "       'Kodarma', 'Lohardaga', 'Pakaur', 'Palamu', 'Pashchimi Singhbhum',\n",
              "       'Purbi Singhbhum', 'Ranchi', 'Sahibganj', 'Balaghat', 'Barwani',\n",
              "       'Betul', 'Bhind', 'Bhopal', 'Chhatarpur', 'Chhindwara', 'Damoh',\n",
              "       'Datia', 'Dewas', 'Dhar', 'Dindori', 'East Nimar', 'Guna',\n",
              "       'Gwalior', 'Harda', 'Hoshangabad', 'Indore', 'Jabalpur', 'Jhabua',\n",
              "       'Katni', 'Mandla', 'Mandsaur', 'Morena', 'Narsimhapur', 'Neemuch',\n",
              "       'Panna', 'Raisen', 'Rajgarh', 'Ratlam', 'Rewa', 'Sagar', 'Satna',\n",
              "       'Sehore', 'Seoni', 'Shahdol', 'Shajapur', 'Sheopur', 'Shivpuri',\n",
              "       'Sidhi', 'Tikamgarh', 'Ujjain', 'Umaria', 'Vidisha', 'West Nimar',\n",
              "       'Anugul', 'Balangir', 'Baleshwar', 'Bargarh', 'Baudh', 'Bhadrak',\n",
              "       'Cuttack', 'Debagarh', 'Dhenkanal', 'Gajapati', 'Ganjam',\n",
              "       'Jagatsinghapur', 'Jajapur', 'Jharsuguda', 'Kalahandi',\n",
              "       'Kandhamal', 'Kendrapara', 'Kendujhar', 'Khordha', 'Koraput',\n",
              "       'Malkangiri', 'Mayurbhanj', 'Nabarangapur', 'Nuapada', 'Nayagarh',\n",
              "       'Puri', 'Rayagada', 'Sambalpur', 'Sonapur', 'Sundargarh', 'Ajmer',\n",
              "       'Alwar', 'Banswara', 'Baran', 'Barmer', 'Bharatpur', 'Bhilwara',\n",
              "       'Bikaner', 'Bundi', 'Chittaurgarh', 'Churu', 'Dausa', 'Dhaulpur',\n",
              "       'Dungarpur', 'Ganganagar', 'Hanumangarh', 'Jaipur', 'Jaisalmer',\n",
              "       'Jalor', 'Jhalawar', 'Jhunjhunun', 'Jodhpur', 'Karauli', 'Kota',\n",
              "       'Nagaur', 'Pali', 'Rajsamand', 'Sawai Madhopur', 'Sikar', 'Sirohi',\n",
              "       'Tonk', 'Udaipur', 'Agra', 'Aligarh', 'Allahabad',\n",
              "       'Ambedkar Nagar', 'Auraiya', 'Azamgarh', 'Baghpat', 'Bahraich',\n",
              "       'Ballia', 'Balrampur', 'Banda', 'Barabanki', 'Bareilly', 'Basti',\n",
              "       'Bijnor', 'Budaun', 'Bulandshahar', 'Chandauli', 'Chitrakoot',\n",
              "       'Deoria', 'Etah', 'Etawah', 'Faizabad', 'Farrukhabad', 'Fatehpur',\n",
              "       'Firozabad', 'Gautam Buddha Nagar', 'Ghaziabad', 'Ghazipur',\n",
              "       'Gonda', 'Gorakhpur', 'Hamirpur', 'Hardoi', 'Hathras', 'Jalaun',\n",
              "       'Jaunpur', 'Jhansi', 'Jyotiba Phule Nagar', 'Kannauj',\n",
              "       'Kanpur Dehat', 'Kanpur Nagar', 'Kaushambi', 'Kheri', 'Kushinagar',\n",
              "       'Lalitpur', 'Lucknow', 'Maharajganj', 'Mahoba', 'Mainpuri',\n",
              "       'Mathura', 'Mau', 'Meerut', 'Mirzapur', 'Moradabad',\n",
              "       'Muzaffarnagar', 'Pilibhit', 'Pratapgarh', 'Rae Bareli', 'Rampur',\n",
              "       'Saharanpur', 'Sant Kabir Nagar', 'Sant Ravidas Nagar (Bhadohi)',\n",
              "       'Shahjahanpur', 'Shrawasti', 'Siddharthnagar', 'Sitapur',\n",
              "       'Sonbhadra', 'Sultanpur', 'Unnao', 'Varanasi', 'Almora',\n",
              "       'Bageshwar', 'Chamoli', 'Champawat', 'Dehradun', 'Haridwar',\n",
              "       'Nainital', 'Pauri Garhwal', 'Pithoragarh', 'Rudraprayag',\n",
              "       'Tehri Garhwal', 'Udham Singh Nagar', 'Uttarkashi'], dtype=object)"
            ]
          },
          "metadata": {
            "tags": []
          },
          "execution_count": 12
        }
      ]
    },
    {
      "cell_type": "code",
      "metadata": {
        "colab": {
          "base_uri": "https://localhost:8080/"
        },
        "id": "JALhHAqCiPfK",
        "outputId": "cfcea49a-9638-41d2-a7ed-2f1338dc40a0"
      },
      "source": [
        "#district.sort()\n",
        "print(len(district))"
      ],
      "execution_count": null,
      "outputs": [
        {
          "output_type": "stream",
          "text": [
            "284\n"
          ],
          "name": "stdout"
        }
      ]
    },
    {
      "cell_type": "code",
      "metadata": {
        "colab": {
          "base_uri": "https://localhost:8080/"
        },
        "id": "7_dlbXuYiPfK",
        "outputId": "7423bd4f-42a5-49cf-9b5c-f1407fd22120"
      },
      "source": [
        "dist={}\n",
        "for i in range(len(district)):\n",
        "    dist[district[i]]=i\n",
        "df['District']=df.District.astype(object)\n",
        "df['District'].replace(dist,inplace=True)\n",
        "print(df['District'])"
      ],
      "execution_count": null,
      "outputs": [
        {
          "output_type": "stream",
          "text": [
            "0        0\n",
            "1        1\n",
            "2        2\n",
            "3        3\n",
            "4        4\n",
            "      ... \n",
            "279    279\n",
            "280    280\n",
            "281    281\n",
            "282    282\n",
            "283    283\n",
            "Name: District, Length: 284, dtype: int64\n"
          ],
          "name": "stdout"
        }
      ]
    },
    {
      "cell_type": "code",
      "metadata": {
        "colab": {
          "base_uri": "https://localhost:8080/",
          "height": 240
        },
        "id": "by0P36_HiPfL",
        "outputId": "ec4e0039-2e0b-4006-cdc3-bc0426e3be48"
      },
      "source": [
        "df.head()"
      ],
      "execution_count": null,
      "outputs": [
        {
          "output_type": "execute_result",
          "data": {
            "text/html": [
              "<div>\n",
              "<style scoped>\n",
              "    .dataframe tbody tr th:only-of-type {\n",
              "        vertical-align: middle;\n",
              "    }\n",
              "\n",
              "    .dataframe tbody tr th {\n",
              "        vertical-align: top;\n",
              "    }\n",
              "\n",
              "    .dataframe thead th {\n",
              "        text-align: right;\n",
              "    }\n",
              "</style>\n",
              "<table border=\"1\" class=\"dataframe\">\n",
              "  <thead>\n",
              "    <tr style=\"text-align: right;\">\n",
              "      <th></th>\n",
              "      <th>Unnamed: 0</th>\n",
              "      <th>State</th>\n",
              "      <th>District</th>\n",
              "      <th>Population</th>\n",
              "      <th>Children_Between_1_to_2_years</th>\n",
              "      <th>Total_Arthritis_Patient</th>\n",
              "      <th>Arthritis_Patient_Male</th>\n",
              "      <th>Arthritis_Patient_Female</th>\n",
              "      <th>Children_Vaccinated</th>\n",
              "      <th>Children_Immunized</th>\n",
              "      <th>Children_Vaccinated_at_Birth</th>\n",
              "      <th>Children_Not_Vaccinated</th>\n",
              "      <th>Total_Children_Weighted</th>\n",
              "      <th>Children_Weighted_less_than_2.5_Kg</th>\n",
              "      <th>Women_Aged_15_49_years</th>\n",
              "    </tr>\n",
              "  </thead>\n",
              "  <tbody>\n",
              "    <tr>\n",
              "      <th>0</th>\n",
              "      <td>0</td>\n",
              "      <td>Assam</td>\n",
              "      <td>0</td>\n",
              "      <td>64606</td>\n",
              "      <td>2371</td>\n",
              "      <td>1072.0</td>\n",
              "      <td>832.0</td>\n",
              "      <td>1328.0</td>\n",
              "      <td>76.5</td>\n",
              "      <td>62.1</td>\n",
              "      <td>67.7</td>\n",
              "      <td>4.3</td>\n",
              "      <td>55.3</td>\n",
              "      <td>22.5</td>\n",
              "      <td>12208.5</td>\n",
              "    </tr>\n",
              "    <tr>\n",
              "      <th>1</th>\n",
              "      <td>1</td>\n",
              "      <td>Assam</td>\n",
              "      <td>1</td>\n",
              "      <td>84012</td>\n",
              "      <td>2451</td>\n",
              "      <td>929.0</td>\n",
              "      <td>701.0</td>\n",
              "      <td>1171.0</td>\n",
              "      <td>67.8</td>\n",
              "      <td>52.4</td>\n",
              "      <td>73.7</td>\n",
              "      <td>3.4</td>\n",
              "      <td>55.7</td>\n",
              "      <td>21.6</td>\n",
              "      <td>16157.0</td>\n",
              "    </tr>\n",
              "    <tr>\n",
              "      <th>2</th>\n",
              "      <td>2</td>\n",
              "      <td>Assam</td>\n",
              "      <td>2</td>\n",
              "      <td>127158</td>\n",
              "      <td>5709</td>\n",
              "      <td>2964.0</td>\n",
              "      <td>2448.0</td>\n",
              "      <td>3474.0</td>\n",
              "      <td>71.3</td>\n",
              "      <td>64.5</td>\n",
              "      <td>82.0</td>\n",
              "      <td>2.7</td>\n",
              "      <td>61.7</td>\n",
              "      <td>27.8</td>\n",
              "      <td>22614.5</td>\n",
              "    </tr>\n",
              "    <tr>\n",
              "      <th>3</th>\n",
              "      <td>3</td>\n",
              "      <td>Assam</td>\n",
              "      <td>3</td>\n",
              "      <td>29048</td>\n",
              "      <td>984</td>\n",
              "      <td>1557.0</td>\n",
              "      <td>1360.0</td>\n",
              "      <td>1766.0</td>\n",
              "      <td>79.3</td>\n",
              "      <td>56.4</td>\n",
              "      <td>76.3</td>\n",
              "      <td>5.3</td>\n",
              "      <td>65.0</td>\n",
              "      <td>25.2</td>\n",
              "      <td>5225.5</td>\n",
              "    </tr>\n",
              "    <tr>\n",
              "      <th>4</th>\n",
              "      <td>4</td>\n",
              "      <td>Assam</td>\n",
              "      <td>4</td>\n",
              "      <td>75451</td>\n",
              "      <td>3467</td>\n",
              "      <td>1109.0</td>\n",
              "      <td>958.0</td>\n",
              "      <td>1265.0</td>\n",
              "      <td>80.4</td>\n",
              "      <td>66.6</td>\n",
              "      <td>78.5</td>\n",
              "      <td>7.5</td>\n",
              "      <td>74.1</td>\n",
              "      <td>14.5</td>\n",
              "      <td>13844.0</td>\n",
              "    </tr>\n",
              "  </tbody>\n",
              "</table>\n",
              "</div>"
            ],
            "text/plain": [
              "   Unnamed: 0  ... Women_Aged_15_49_years\n",
              "0           0  ...                12208.5\n",
              "1           1  ...                16157.0\n",
              "2           2  ...                22614.5\n",
              "3           3  ...                 5225.5\n",
              "4           4  ...                13844.0\n",
              "\n",
              "[5 rows x 15 columns]"
            ]
          },
          "metadata": {
            "tags": []
          },
          "execution_count": 15
        }
      ]
    },
    {
      "cell_type": "code",
      "metadata": {
        "id": "5NSgJKNpiPfL"
      },
      "source": [
        "df['Sum']=df['Total_Arthritis_Patient']+df['Children_Not_Vaccinated']*1000+df['Women_Aged_15_49_years']"
      ],
      "execution_count": null,
      "outputs": []
    },
    {
      "cell_type": "code",
      "metadata": {
        "colab": {
          "base_uri": "https://localhost:8080/"
        },
        "id": "Sn5D8JsoiPfM",
        "outputId": "ca5f47d5-f9f0-4816-8017-ab7babd150d2"
      },
      "source": [
        "np.mean(df['Sum'])"
      ],
      "execution_count": null,
      "outputs": [
        {
          "output_type": "execute_result",
          "data": {
            "text/plain": [
              "19854.591109154946"
            ]
          },
          "metadata": {
            "tags": []
          },
          "execution_count": 17
        }
      ]
    },
    {
      "cell_type": "code",
      "metadata": {
        "colab": {
          "base_uri": "https://localhost:8080/"
        },
        "id": "4tW7glXuiPfM",
        "outputId": "969ec57f-014b-4fa6-de66-e4f339c647ee"
      },
      "source": [
        "for i in range(len(df['Sum'])):\n",
        "    if df['Sum'][i]>19854.591109154946:\n",
        "        df['Sum'][i]=1\n",
        "    else:\n",
        "        df['Sum'][i]=0"
      ],
      "execution_count": null,
      "outputs": [
        {
          "output_type": "stream",
          "text": [
            "/usr/local/lib/python3.7/dist-packages/ipykernel_launcher.py:5: SettingWithCopyWarning: \n",
            "A value is trying to be set on a copy of a slice from a DataFrame\n",
            "\n",
            "See the caveats in the documentation: https://pandas.pydata.org/pandas-docs/stable/user_guide/indexing.html#returning-a-view-versus-a-copy\n",
            "  \"\"\"\n",
            "/usr/local/lib/python3.7/dist-packages/ipykernel_launcher.py:3: SettingWithCopyWarning: \n",
            "A value is trying to be set on a copy of a slice from a DataFrame\n",
            "\n",
            "See the caveats in the documentation: https://pandas.pydata.org/pandas-docs/stable/user_guide/indexing.html#returning-a-view-versus-a-copy\n",
            "  This is separate from the ipykernel package so we can avoid doing imports until\n"
          ],
          "name": "stderr"
        }
      ]
    },
    {
      "cell_type": "code",
      "metadata": {
        "colab": {
          "base_uri": "https://localhost:8080/"
        },
        "id": "dNcvHRl8iPfM",
        "outputId": "f76859ff-79d9-4a77-da0d-450433e19acf"
      },
      "source": [
        "df['Sum']"
      ],
      "execution_count": null,
      "outputs": [
        {
          "output_type": "execute_result",
          "data": {
            "text/plain": [
              "0      0.0\n",
              "1      1.0\n",
              "2      1.0\n",
              "3      0.0\n",
              "4      1.0\n",
              "      ... \n",
              "279    1.0\n",
              "280    1.0\n",
              "281    1.0\n",
              "282    1.0\n",
              "283    1.0\n",
              "Name: Sum, Length: 284, dtype: float64"
            ]
          },
          "metadata": {
            "tags": []
          },
          "execution_count": 19
        }
      ]
    },
    {
      "cell_type": "code",
      "metadata": {
        "colab": {
          "base_uri": "https://localhost:8080/",
          "height": 332
        },
        "id": "mpdk48QxiPfN",
        "outputId": "21a52651-29c2-473e-9eff-e200bcd3883d"
      },
      "source": [
        "df.describe()"
      ],
      "execution_count": null,
      "outputs": [
        {
          "output_type": "execute_result",
          "data": {
            "text/html": [
              "<div>\n",
              "<style scoped>\n",
              "    .dataframe tbody tr th:only-of-type {\n",
              "        vertical-align: middle;\n",
              "    }\n",
              "\n",
              "    .dataframe tbody tr th {\n",
              "        vertical-align: top;\n",
              "    }\n",
              "\n",
              "    .dataframe thead th {\n",
              "        text-align: right;\n",
              "    }\n",
              "</style>\n",
              "<table border=\"1\" class=\"dataframe\">\n",
              "  <thead>\n",
              "    <tr style=\"text-align: right;\">\n",
              "      <th></th>\n",
              "      <th>Unnamed: 0</th>\n",
              "      <th>District</th>\n",
              "      <th>Population</th>\n",
              "      <th>Children_Between_1_to_2_years</th>\n",
              "      <th>Total_Arthritis_Patient</th>\n",
              "      <th>Arthritis_Patient_Male</th>\n",
              "      <th>Arthritis_Patient_Female</th>\n",
              "      <th>Children_Vaccinated</th>\n",
              "      <th>Children_Immunized</th>\n",
              "      <th>Children_Vaccinated_at_Birth</th>\n",
              "      <th>Children_Not_Vaccinated</th>\n",
              "      <th>Total_Children_Weighted</th>\n",
              "      <th>Children_Weighted_less_than_2.5_Kg</th>\n",
              "      <th>Women_Aged_15_49_years</th>\n",
              "      <th>Sum</th>\n",
              "    </tr>\n",
              "  </thead>\n",
              "  <tbody>\n",
              "    <tr>\n",
              "      <th>count</th>\n",
              "      <td>284.000000</td>\n",
              "      <td>284.000000</td>\n",
              "      <td>284.000000</td>\n",
              "      <td>284.000000</td>\n",
              "      <td>284.000000</td>\n",
              "      <td>284.000000</td>\n",
              "      <td>284.000000</td>\n",
              "      <td>284.000000</td>\n",
              "      <td>284.000000</td>\n",
              "      <td>284.000000</td>\n",
              "      <td>284.000000</td>\n",
              "      <td>284.000000</td>\n",
              "      <td>284.000000</td>\n",
              "      <td>284.000000</td>\n",
              "      <td>284.000000</td>\n",
              "    </tr>\n",
              "    <tr>\n",
              "      <th>mean</th>\n",
              "      <td>141.500000</td>\n",
              "      <td>141.500000</td>\n",
              "      <td>74178.753521</td>\n",
              "      <td>2797.573944</td>\n",
              "      <td>1669.219894</td>\n",
              "      <td>1294.553521</td>\n",
              "      <td>2056.383275</td>\n",
              "      <td>76.127570</td>\n",
              "      <td>65.148415</td>\n",
              "      <td>77.996972</td>\n",
              "      <td>4.501549</td>\n",
              "      <td>56.796373</td>\n",
              "      <td>25.028556</td>\n",
              "      <td>13683.821919</td>\n",
              "      <td>0.422535</td>\n",
              "    </tr>\n",
              "    <tr>\n",
              "      <th>std</th>\n",
              "      <td>82.127949</td>\n",
              "      <td>82.127949</td>\n",
              "      <td>38613.108658</td>\n",
              "      <td>1466.468416</td>\n",
              "      <td>1262.853571</td>\n",
              "      <td>1015.984674</td>\n",
              "      <td>1573.960548</td>\n",
              "      <td>12.276199</td>\n",
              "      <td>14.546203</td>\n",
              "      <td>11.760262</td>\n",
              "      <td>4.243642</td>\n",
              "      <td>21.452351</td>\n",
              "      <td>8.894126</td>\n",
              "      <td>7189.642052</td>\n",
              "      <td>0.494835</td>\n",
              "    </tr>\n",
              "    <tr>\n",
              "      <th>min</th>\n",
              "      <td>0.000000</td>\n",
              "      <td>0.000000</td>\n",
              "      <td>13892.000000</td>\n",
              "      <td>623.000000</td>\n",
              "      <td>49.000000</td>\n",
              "      <td>29.000000</td>\n",
              "      <td>70.000000</td>\n",
              "      <td>32.090000</td>\n",
              "      <td>24.900000</td>\n",
              "      <td>32.500000</td>\n",
              "      <td>0.160000</td>\n",
              "      <td>10.130000</td>\n",
              "      <td>5.420000</td>\n",
              "      <td>2384.000000</td>\n",
              "      <td>0.000000</td>\n",
              "    </tr>\n",
              "    <tr>\n",
              "      <th>25%</th>\n",
              "      <td>70.750000</td>\n",
              "      <td>70.750000</td>\n",
              "      <td>49222.500000</td>\n",
              "      <td>1818.000000</td>\n",
              "      <td>757.385000</td>\n",
              "      <td>583.245000</td>\n",
              "      <td>958.767500</td>\n",
              "      <td>68.742500</td>\n",
              "      <td>54.805000</td>\n",
              "      <td>70.667500</td>\n",
              "      <td>1.900000</td>\n",
              "      <td>38.707500</td>\n",
              "      <td>18.962500</td>\n",
              "      <td>9033.500000</td>\n",
              "      <td>0.000000</td>\n",
              "    </tr>\n",
              "    <tr>\n",
              "      <th>50%</th>\n",
              "      <td>141.500000</td>\n",
              "      <td>141.500000</td>\n",
              "      <td>65206.500000</td>\n",
              "      <td>2499.500000</td>\n",
              "      <td>1328.555000</td>\n",
              "      <td>1003.845000</td>\n",
              "      <td>1630.220000</td>\n",
              "      <td>77.385000</td>\n",
              "      <td>66.125000</td>\n",
              "      <td>80.500000</td>\n",
              "      <td>3.240000</td>\n",
              "      <td>55.850000</td>\n",
              "      <td>23.605000</td>\n",
              "      <td>12139.250000</td>\n",
              "      <td>0.000000</td>\n",
              "    </tr>\n",
              "    <tr>\n",
              "      <th>75%</th>\n",
              "      <td>212.250000</td>\n",
              "      <td>212.250000</td>\n",
              "      <td>88998.500000</td>\n",
              "      <td>3434.250000</td>\n",
              "      <td>2264.247500</td>\n",
              "      <td>1710.250000</td>\n",
              "      <td>2762.960000</td>\n",
              "      <td>85.882500</td>\n",
              "      <td>76.800000</td>\n",
              "      <td>87.000000</td>\n",
              "      <td>5.742500</td>\n",
              "      <td>74.675000</td>\n",
              "      <td>30.325000</td>\n",
              "      <td>16172.500000</td>\n",
              "      <td>1.000000</td>\n",
              "    </tr>\n",
              "    <tr>\n",
              "      <th>max</th>\n",
              "      <td>283.000000</td>\n",
              "      <td>283.000000</td>\n",
              "      <td>303009.000000</td>\n",
              "      <td>11814.000000</td>\n",
              "      <td>7910.000000</td>\n",
              "      <td>7203.000000</td>\n",
              "      <td>8633.000000</td>\n",
              "      <td>96.550000</td>\n",
              "      <td>92.100000</td>\n",
              "      <td>96.940000</td>\n",
              "      <td>30.670000</td>\n",
              "      <td>95.470000</td>\n",
              "      <td>54.700000</td>\n",
              "      <td>55407.500000</td>\n",
              "      <td>1.000000</td>\n",
              "    </tr>\n",
              "  </tbody>\n",
              "</table>\n",
              "</div>"
            ],
            "text/plain": [
              "       Unnamed: 0    District  ...  Women_Aged_15_49_years         Sum\n",
              "count  284.000000  284.000000  ...              284.000000  284.000000\n",
              "mean   141.500000  141.500000  ...            13683.821919    0.422535\n",
              "std     82.127949   82.127949  ...             7189.642052    0.494835\n",
              "min      0.000000    0.000000  ...             2384.000000    0.000000\n",
              "25%     70.750000   70.750000  ...             9033.500000    0.000000\n",
              "50%    141.500000  141.500000  ...            12139.250000    0.000000\n",
              "75%    212.250000  212.250000  ...            16172.500000    1.000000\n",
              "max    283.000000  283.000000  ...            55407.500000    1.000000\n",
              "\n",
              "[8 rows x 15 columns]"
            ]
          },
          "metadata": {
            "tags": []
          },
          "execution_count": 20
        }
      ]
    },
    {
      "cell_type": "code",
      "metadata": {
        "colab": {
          "base_uri": "https://localhost:8080/"
        },
        "id": "ut24TEsQiPfN",
        "outputId": "1d87419a-16c0-4511-cbab-1cc13a382208"
      },
      "source": [
        "df.info()"
      ],
      "execution_count": null,
      "outputs": [
        {
          "output_type": "stream",
          "text": [
            "<class 'pandas.core.frame.DataFrame'>\n",
            "RangeIndex: 284 entries, 0 to 283\n",
            "Data columns (total 16 columns):\n",
            " #   Column                              Non-Null Count  Dtype  \n",
            "---  ------                              --------------  -----  \n",
            " 0   Unnamed: 0                          284 non-null    int64  \n",
            " 1   State                               284 non-null    object \n",
            " 2   District                            284 non-null    int64  \n",
            " 3   Population                          284 non-null    int64  \n",
            " 4   Children_Between_1_to_2_years       284 non-null    int64  \n",
            " 5   Total_Arthritis_Patient             284 non-null    float64\n",
            " 6   Arthritis_Patient_Male              284 non-null    float64\n",
            " 7   Arthritis_Patient_Female            284 non-null    float64\n",
            " 8   Children_Vaccinated                 284 non-null    float64\n",
            " 9   Children_Immunized                  284 non-null    float64\n",
            " 10  Children_Vaccinated_at_Birth        284 non-null    float64\n",
            " 11  Children_Not_Vaccinated             284 non-null    float64\n",
            " 12  Total_Children_Weighted             284 non-null    float64\n",
            " 13  Children_Weighted_less_than_2.5_Kg  284 non-null    float64\n",
            " 14  Women_Aged_15_49_years              284 non-null    float64\n",
            " 15  Sum                                 284 non-null    float64\n",
            "dtypes: float64(11), int64(4), object(1)\n",
            "memory usage: 35.6+ KB\n"
          ],
          "name": "stdout"
        }
      ]
    },
    {
      "cell_type": "code",
      "metadata": {
        "id": "cNtYiOAFiPfO"
      },
      "source": [
        "df.drop(columns=['State','Population','Children_Between_1_to_2_years','Arthritis_Patient_Male','Arthritis_Patient_Female','Children_Vaccinated','Children_Immunized','Children_Vaccinated_at_Birth','Total_Children_Weighted','Children_Weighted_less_than_2.5_Kg'],inplace=True)"
      ],
      "execution_count": null,
      "outputs": []
    },
    {
      "cell_type": "code",
      "metadata": {
        "id": "EaBSxTyUiPfO"
      },
      "source": [
        "df.drop(columns=['Unnamed: 0'],inplace=True)"
      ],
      "execution_count": null,
      "outputs": []
    },
    {
      "cell_type": "code",
      "metadata": {
        "colab": {
          "base_uri": "https://localhost:8080/"
        },
        "id": "42mfN2JqiPfO",
        "outputId": "b99da949-63ea-4b14-f487-778bbeb00b4e"
      },
      "source": [
        "print(df.columns)"
      ],
      "execution_count": null,
      "outputs": [
        {
          "output_type": "stream",
          "text": [
            "Index(['District', 'Total_Arthritis_Patient', 'Children_Not_Vaccinated',\n",
            "       'Women_Aged_15_49_years', 'Sum'],\n",
            "      dtype='object')\n"
          ],
          "name": "stdout"
        }
      ]
    },
    {
      "cell_type": "code",
      "metadata": {
        "colab": {
          "base_uri": "https://localhost:8080/",
          "height": 203
        },
        "id": "Oz5nIyELiPfO",
        "outputId": "69958026-4d20-4d8b-99cb-3030479a1aca"
      },
      "source": [
        "df.head()"
      ],
      "execution_count": null,
      "outputs": [
        {
          "output_type": "execute_result",
          "data": {
            "text/html": [
              "<div>\n",
              "<style scoped>\n",
              "    .dataframe tbody tr th:only-of-type {\n",
              "        vertical-align: middle;\n",
              "    }\n",
              "\n",
              "    .dataframe tbody tr th {\n",
              "        vertical-align: top;\n",
              "    }\n",
              "\n",
              "    .dataframe thead th {\n",
              "        text-align: right;\n",
              "    }\n",
              "</style>\n",
              "<table border=\"1\" class=\"dataframe\">\n",
              "  <thead>\n",
              "    <tr style=\"text-align: right;\">\n",
              "      <th></th>\n",
              "      <th>District</th>\n",
              "      <th>Total_Arthritis_Patient</th>\n",
              "      <th>Children_Not_Vaccinated</th>\n",
              "      <th>Women_Aged_15_49_years</th>\n",
              "      <th>Sum</th>\n",
              "    </tr>\n",
              "  </thead>\n",
              "  <tbody>\n",
              "    <tr>\n",
              "      <th>0</th>\n",
              "      <td>0</td>\n",
              "      <td>1072.0</td>\n",
              "      <td>4.3</td>\n",
              "      <td>12208.5</td>\n",
              "      <td>0.0</td>\n",
              "    </tr>\n",
              "    <tr>\n",
              "      <th>1</th>\n",
              "      <td>1</td>\n",
              "      <td>929.0</td>\n",
              "      <td>3.4</td>\n",
              "      <td>16157.0</td>\n",
              "      <td>1.0</td>\n",
              "    </tr>\n",
              "    <tr>\n",
              "      <th>2</th>\n",
              "      <td>2</td>\n",
              "      <td>2964.0</td>\n",
              "      <td>2.7</td>\n",
              "      <td>22614.5</td>\n",
              "      <td>1.0</td>\n",
              "    </tr>\n",
              "    <tr>\n",
              "      <th>3</th>\n",
              "      <td>3</td>\n",
              "      <td>1557.0</td>\n",
              "      <td>5.3</td>\n",
              "      <td>5225.5</td>\n",
              "      <td>0.0</td>\n",
              "    </tr>\n",
              "    <tr>\n",
              "      <th>4</th>\n",
              "      <td>4</td>\n",
              "      <td>1109.0</td>\n",
              "      <td>7.5</td>\n",
              "      <td>13844.0</td>\n",
              "      <td>1.0</td>\n",
              "    </tr>\n",
              "  </tbody>\n",
              "</table>\n",
              "</div>"
            ],
            "text/plain": [
              "   District  Total_Arthritis_Patient  ...  Women_Aged_15_49_years  Sum\n",
              "0         0                   1072.0  ...                 12208.5  0.0\n",
              "1         1                    929.0  ...                 16157.0  1.0\n",
              "2         2                   2964.0  ...                 22614.5  1.0\n",
              "3         3                   1557.0  ...                  5225.5  0.0\n",
              "4         4                   1109.0  ...                 13844.0  1.0\n",
              "\n",
              "[5 rows x 5 columns]"
            ]
          },
          "metadata": {
            "tags": []
          },
          "execution_count": 25
        }
      ]
    },
    {
      "cell_type": "code",
      "metadata": {
        "id": "LAZhAvRAiPfP"
      },
      "source": [
        "df.drop(columns=['District'],inplace=True)"
      ],
      "execution_count": null,
      "outputs": []
    },
    {
      "cell_type": "code",
      "metadata": {
        "colab": {
          "base_uri": "https://localhost:8080/",
          "height": 203
        },
        "id": "SBR-9tUcjHai",
        "outputId": "4e931cc7-f59d-4cda-8e89-43b2f5d40d2c"
      },
      "source": [
        "df.head()"
      ],
      "execution_count": null,
      "outputs": [
        {
          "output_type": "execute_result",
          "data": {
            "text/html": [
              "<div>\n",
              "<style scoped>\n",
              "    .dataframe tbody tr th:only-of-type {\n",
              "        vertical-align: middle;\n",
              "    }\n",
              "\n",
              "    .dataframe tbody tr th {\n",
              "        vertical-align: top;\n",
              "    }\n",
              "\n",
              "    .dataframe thead th {\n",
              "        text-align: right;\n",
              "    }\n",
              "</style>\n",
              "<table border=\"1\" class=\"dataframe\">\n",
              "  <thead>\n",
              "    <tr style=\"text-align: right;\">\n",
              "      <th></th>\n",
              "      <th>Total_Arthritis_Patient</th>\n",
              "      <th>Children_Not_Vaccinated</th>\n",
              "      <th>Women_Aged_15_49_years</th>\n",
              "      <th>Sum</th>\n",
              "    </tr>\n",
              "  </thead>\n",
              "  <tbody>\n",
              "    <tr>\n",
              "      <th>0</th>\n",
              "      <td>1072.0</td>\n",
              "      <td>4.3</td>\n",
              "      <td>12208.5</td>\n",
              "      <td>0.0</td>\n",
              "    </tr>\n",
              "    <tr>\n",
              "      <th>1</th>\n",
              "      <td>929.0</td>\n",
              "      <td>3.4</td>\n",
              "      <td>16157.0</td>\n",
              "      <td>1.0</td>\n",
              "    </tr>\n",
              "    <tr>\n",
              "      <th>2</th>\n",
              "      <td>2964.0</td>\n",
              "      <td>2.7</td>\n",
              "      <td>22614.5</td>\n",
              "      <td>1.0</td>\n",
              "    </tr>\n",
              "    <tr>\n",
              "      <th>3</th>\n",
              "      <td>1557.0</td>\n",
              "      <td>5.3</td>\n",
              "      <td>5225.5</td>\n",
              "      <td>0.0</td>\n",
              "    </tr>\n",
              "    <tr>\n",
              "      <th>4</th>\n",
              "      <td>1109.0</td>\n",
              "      <td>7.5</td>\n",
              "      <td>13844.0</td>\n",
              "      <td>1.0</td>\n",
              "    </tr>\n",
              "  </tbody>\n",
              "</table>\n",
              "</div>"
            ],
            "text/plain": [
              "   Total_Arthritis_Patient  ...  Sum\n",
              "0                   1072.0  ...  0.0\n",
              "1                    929.0  ...  1.0\n",
              "2                   2964.0  ...  1.0\n",
              "3                   1557.0  ...  0.0\n",
              "4                   1109.0  ...  1.0\n",
              "\n",
              "[5 rows x 4 columns]"
            ]
          },
          "metadata": {
            "tags": []
          },
          "execution_count": 27
        }
      ]
    },
    {
      "cell_type": "code",
      "metadata": {
        "id": "xQaGg9n8jO-I"
      },
      "source": [
        "X=df.drop(['Sum'],axis=1)\n",
        "Y=df['Sum']"
      ],
      "execution_count": null,
      "outputs": []
    },
    {
      "cell_type": "code",
      "metadata": {
        "colab": {
          "base_uri": "https://localhost:8080/"
        },
        "id": "rh2vElW2jqIT",
        "outputId": "0238dc20-409c-4e62-a487-10105c5af785"
      },
      "source": [
        "print(X)\n",
        "print(Y)"
      ],
      "execution_count": null,
      "outputs": [
        {
          "output_type": "stream",
          "text": [
            "     Total_Arthritis_Patient  Children_Not_Vaccinated  Women_Aged_15_49_years\n",
            "0                    1072.00                     4.30                 12208.5\n",
            "1                     929.00                     3.40                 16157.0\n",
            "2                    2964.00                     2.70                 22614.5\n",
            "3                    1557.00                     5.30                  5225.5\n",
            "4                    1109.00                     7.50                 13844.0\n",
            "..                       ...                      ...                     ...\n",
            "279                  5884.42                     1.28                 20711.5\n",
            "280                  4110.77                     1.67                 27629.0\n",
            "281                  1332.66                     5.73                 39272.5\n",
            "282                  1612.24                     2.79                 15773.5\n",
            "283                   851.41                     6.97                 14130.5\n",
            "\n",
            "[284 rows x 3 columns]\n",
            "0      0.0\n",
            "1      1.0\n",
            "2      1.0\n",
            "3      0.0\n",
            "4      1.0\n",
            "      ... \n",
            "279    1.0\n",
            "280    1.0\n",
            "281    1.0\n",
            "282    1.0\n",
            "283    1.0\n",
            "Name: Sum, Length: 284, dtype: float64\n"
          ],
          "name": "stdout"
        }
      ]
    },
    {
      "cell_type": "code",
      "metadata": {
        "id": "HDcEj4p8kVVR"
      },
      "source": [
        "X_train, X_test, Y_train, Y_test = train_test_split(X, Y, test_size = 0.2, random_state = 2)"
      ],
      "execution_count": null,
      "outputs": []
    },
    {
      "cell_type": "code",
      "metadata": {
        "colab": {
          "base_uri": "https://localhost:8080/"
        },
        "id": "b1gsWgV3kZNu",
        "outputId": "fc14853a-03fd-4e5f-ae48-422d1792389a"
      },
      "source": [
        "print(X.shape, X_train.shape, X_test.shape)"
      ],
      "execution_count": null,
      "outputs": [
        {
          "output_type": "stream",
          "text": [
            "(284, 3) (227, 3) (57, 3)\n"
          ],
          "name": "stdout"
        }
      ]
    },
    {
      "cell_type": "code",
      "metadata": {
        "id": "puJ__9gpkhK-"
      },
      "source": [
        "model = XGBRegressor()"
      ],
      "execution_count": null,
      "outputs": []
    },
    {
      "cell_type": "code",
      "metadata": {
        "colab": {
          "base_uri": "https://localhost:8080/"
        },
        "id": "p5Csxespkj_C",
        "outputId": "91a3d42e-a72e-49dc-a52b-75213a8197e3"
      },
      "source": [
        "model.fit(X_train, Y_train)"
      ],
      "execution_count": null,
      "outputs": [
        {
          "output_type": "stream",
          "text": [
            "[06:36:39] WARNING: /workspace/src/objective/regression_obj.cu:152: reg:linear is now deprecated in favor of reg:squarederror.\n"
          ],
          "name": "stdout"
        },
        {
          "output_type": "execute_result",
          "data": {
            "text/plain": [
              "XGBRegressor(base_score=0.5, booster='gbtree', colsample_bylevel=1,\n",
              "             colsample_bynode=1, colsample_bytree=1, gamma=0,\n",
              "             importance_type='gain', learning_rate=0.1, max_delta_step=0,\n",
              "             max_depth=3, min_child_weight=1, missing=None, n_estimators=100,\n",
              "             n_jobs=1, nthread=None, objective='reg:linear', random_state=0,\n",
              "             reg_alpha=0, reg_lambda=1, scale_pos_weight=1, seed=None,\n",
              "             silent=None, subsample=1, verbosity=1)"
            ]
          },
          "metadata": {
            "tags": []
          },
          "execution_count": 35
        }
      ]
    },
    {
      "cell_type": "code",
      "metadata": {
        "id": "MvsXz6vwknbW"
      },
      "source": [
        "training_data_prediction = model.predict(X_train)"
      ],
      "execution_count": null,
      "outputs": []
    },
    {
      "cell_type": "code",
      "metadata": {
        "colab": {
          "base_uri": "https://localhost:8080/"
        },
        "id": "xZ9lwgo-kq0a",
        "outputId": "a4464fc1-6b57-4cec-9788-7cd42542fe16"
      },
      "source": [
        "print(training_data_prediction)"
      ],
      "execution_count": null,
      "outputs": [
        {
          "output_type": "stream",
          "text": [
            "[ 6.82698786e-02  2.55608559e-03  2.65350640e-02  9.85065699e-01\n",
            "  1.91830397e-02  4.59340811e-02  1.00062311e+00 -6.73007965e-03\n",
            "  6.13161922e-03  8.76968801e-02 -1.76989436e-02 -6.24442101e-03\n",
            "  3.55160832e-02  9.79669809e-01  2.97022462e-02  6.75267577e-02\n",
            "  9.97163892e-01 -6.24442101e-03  9.89378035e-01  9.69636559e-01\n",
            "  9.85750377e-01 -9.94586945e-03 -1.06987953e-02 -1.09923482e-02\n",
            "  1.01601219e+00  1.91788256e-01  1.04317516e-01 -2.02653408e-02\n",
            " -1.06421113e-02  1.78942680e-02  9.96409893e-01  9.85750377e-01\n",
            " -8.47792625e-03 -2.46299505e-02  1.93556637e-01  9.97835875e-01\n",
            "  9.11122441e-01  8.36476326e-01  9.74222839e-01 -5.91719151e-03\n",
            "  6.58340752e-02  1.38425648e-01 -2.04510093e-02  1.02072930e+00\n",
            "  9.73368287e-01 -6.08825684e-03  2.20038295e-02 -1.76989436e-02\n",
            "  1.19833171e-01 -3.12914848e-02  1.00226700e-02  9.92361784e-01\n",
            " -1.06987953e-02  9.10713375e-01  3.89542282e-02  1.12903416e-02\n",
            "  1.01838398e+00  1.55161619e-02  6.11281693e-02 -1.60863996e-02\n",
            " -2.62624025e-03 -2.81273723e-02  9.55950618e-01  1.99334621e-02\n",
            "  7.92859495e-02  1.03177643e+00  1.05681753e+00  3.13580036e-02\n",
            "  9.38258529e-01  9.69631791e-01 -2.43875980e-02  9.89805281e-01\n",
            " -1.76989436e-02  1.02927053e+00  9.70174313e-01 -6.89566135e-04\n",
            "  9.77313757e-01 -9.94586945e-03 -2.39545703e-02  9.52192664e-01\n",
            " -1.35261416e-02  8.64797056e-01 -2.02653408e-02 -3.50583792e-02\n",
            "  9.65643883e-01  5.99266887e-02  9.80617046e-01  9.20210600e-01\n",
            " -9.80091095e-03 -2.02653408e-02  9.27489519e-01 -8.20106268e-03\n",
            "  1.01235878e+00  9.88246202e-01  9.71819282e-01  9.92763400e-01\n",
            "  9.20857310e-01 -9.70351696e-03  9.86784697e-04  1.81805789e-01\n",
            "  1.00860476e+00  2.58005500e-01  9.98142660e-02 -2.98142433e-03\n",
            "  9.69260931e-03 -1.25986338e-03  9.88365173e-01 -2.02653408e-02\n",
            "  9.34480250e-01  1.03136611e+00 -3.11952829e-03  2.33126581e-02\n",
            "  7.74232864e-01  9.69366193e-01  8.95085633e-01  9.77190971e-01\n",
            "  9.85698819e-01 -9.94586945e-03  2.18374044e-01  1.06334388e-02\n",
            "  1.52143240e-02  3.01745534e-02 -2.45732665e-02  5.20775616e-02\n",
            "  3.77741456e-03  1.02660227e+00  1.38425648e-01  8.80229235e-01\n",
            " -1.76989436e-02 -1.24847889e-03  1.06454563e+00  9.86790419e-01\n",
            " -1.22189522e-02  2.88364291e-03  9.81571317e-01  7.62102962e-01\n",
            "  3.27907503e-02 -3.29380631e-02  9.88003612e-03  1.00062311e+00\n",
            "  7.55966604e-02  9.44570184e-01  5.61106205e-03  9.89378035e-01\n",
            " -1.24847889e-03  9.86790419e-01  4.07184958e-02  3.65405083e-02\n",
            "  9.81571317e-01  1.01654065e+00  8.02795768e-01 -1.06987953e-02\n",
            "  4.87526357e-02  7.76101589e-01  2.17667520e-02  2.11123049e-01\n",
            "  4.00713384e-02 -1.32198334e-02 -2.02653408e-02  1.63165033e-02\n",
            "  9.89805281e-01  9.97430503e-01  9.85996485e-01  9.71131444e-01\n",
            "  1.80585682e-01  9.93052542e-01  1.00331223e+00  1.01492524e+00\n",
            "  1.52346492e-03 -1.04233623e-02  1.06786656e+00  3.71852517e-03\n",
            "  2.31404394e-01 -2.02653408e-02  2.58830488e-02  9.55950618e-01\n",
            " -1.09923482e-02  3.54319811e-04  9.74047661e-01  1.08657014e+00\n",
            "  1.08205080e-02  9.44570184e-01  7.15678155e-01  4.31234241e-02\n",
            "  1.31129920e-02  1.03403354e+00  9.23159480e-01  1.01420510e+00\n",
            " -7.29846954e-03  6.96715534e-01  1.00480211e+00  1.00959778e+00\n",
            " -1.77530646e-02  3.22553515e-02  9.57905471e-01  1.43203139e-03\n",
            "  9.95564103e-01  1.67883337e-02  8.61830235e-01 -2.83790231e-02\n",
            " -2.02653408e-02 -1.06987953e-02 -7.29846954e-03 -1.41248107e-02\n",
            "  1.06334388e-02  1.01074624e+00 -2.38609314e-03  8.26710939e-01\n",
            "  5.20775616e-02 -1.66653395e-02  6.13161922e-03  1.78942680e-02\n",
            " -6.43086433e-03  5.69491386e-02 -5.47581911e-03  1.03133154e+00\n",
            "  9.96757865e-01  1.19410455e-02  1.00139666e+00 -1.48210526e-02\n",
            " -1.09923482e-02 -3.29636931e-02  4.02568877e-02  9.86244619e-01\n",
            "  1.81359798e-01 -1.09923482e-02 -4.58705425e-03]\n"
          ],
          "name": "stdout"
        }
      ]
    },
    {
      "cell_type": "code",
      "metadata": {
        "colab": {
          "base_uri": "https://localhost:8080/"
        },
        "id": "RK61xNX1ks1L",
        "outputId": "890bf992-58a4-4248-81d4-1e7fb31ee4cb"
      },
      "source": [
        "score_1 = metrics.r2_score(Y_train, training_data_prediction)\n",
        "score_2 = metrics.mean_absolute_error(Y_train, training_data_prediction)\n",
        "print(\"R squared error : \", score_1)\n",
        "print('Mean Absolute Error : ', score_2)"
      ],
      "execution_count": null,
      "outputs": [
        {
          "output_type": "stream",
          "text": [
            "R squared error :  0.9789517851344465\n",
            "Mean Absolute Error :  0.04156711041139611\n"
          ],
          "name": "stdout"
        }
      ]
    },
    {
      "cell_type": "code",
      "metadata": {
        "id": "93C8hPeOlJEA"
      },
      "source": [
        "test_data_prediction = model.predict(X_test)"
      ],
      "execution_count": null,
      "outputs": []
    },
    {
      "cell_type": "code",
      "metadata": {
        "colab": {
          "base_uri": "https://localhost:8080/"
        },
        "id": "QSlH-HOelL2M",
        "outputId": "b7b0c91a-749c-48e6-b4a6-06b3e0fa58f3"
      },
      "source": [
        "score_1 = metrics.r2_score(Y_test, test_data_prediction)\n",
        "\n",
        "# Mean Absolute Error\n",
        "score_2 = metrics.mean_absolute_error(Y_test, test_data_prediction)\n",
        "\n",
        "print(\"R squared error : \", score_1)\n",
        "print('Mean Absolute Error : ', score_2)"
      ],
      "execution_count": null,
      "outputs": [
        {
          "output_type": "stream",
          "text": [
            "R squared error :  0.8642948242639169\n",
            "Mean Absolute Error :  0.1080500488741356\n"
          ],
          "name": "stdout"
        }
      ]
    }
  ]
}